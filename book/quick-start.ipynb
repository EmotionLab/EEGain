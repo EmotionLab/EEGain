{
 "cells": [
  {
   "cell_type": "markdown",
   "source": [
    "# **🔥 Quick start**"
   ],
   "metadata": {
    "collapsed": false
   }
  },
  {
   "cell_type": "markdown",
   "source": [
    "Import all the necessary modules and packages"
   ],
   "metadata": {
    "collapsed": false
   }
  },
  {
   "cell_type": "code",
   "execution_count": 1,
   "metadata": {
    "collapsed": true,
    "ExecuteTime": {
     "end_time": "2023-06-30T09:23:01.138315243Z",
     "start_time": "2023-06-30T09:22:59.675654391Z"
    }
   },
   "outputs": [],
   "source": [
    "import torch\n",
    "\n",
    "from torch import nn\n",
    "from tqdm import tqdm\n",
    "\n",
    "import eegain\n",
    "from eegain.data import EEGDataloader\n",
    "from eegain.data.datasets import MAHNOB\n",
    "from eegain.models import DeepConvNet, EEGNet, ShallowConvNet, TSception\n",
    "from eegain.logger import EmotionLogger"
   ]
  },
  {
   "cell_type": "code",
   "execution_count": null,
   "outputs": [],
   "source": [
    "transform = eegain.transforms.Construct(\n",
    "    [\n",
    "        eegain.transforms.Crop(t_min=30, t_max=-30),\n",
    "        eegain.transforms.DropChannels([\"EXG1\", \"EXG2\", \"EXG3\", \"EXG4\", \"EXG5\", \"EXG6\", \"EXG7\", \"EXG8\",\n",
    "                                        \"GSR1\", \"GSR2\", \"Erg1\", \"Erg2\", \"Resp\", \"Temp\", \"Status\",\n",
    "            ]\n",
    "        ),\n",
    "        eegain.transforms.Filter(l_freq=0.3, h_freq=45),\n",
    "        eegain.transforms.NotchFilter(freq=50),\n",
    "        eegain.transforms.Resample(s_rate=128),\n",
    "        eegain.transforms.Segment(duration=4, overlap=0),\n",
    "    ]\n",
    ")"
   ],
   "metadata": {
    "collapsed": false
   }
  },
  {
   "cell_type": "code",
   "execution_count": null,
   "outputs": [],
   "source": [
    "mahnob_dataset = MAHNOB(\n",
    "    \"/home/raphael/Desktop/repos/Tsception_before_refacoring/TSception/sessions/Sessions/\",\n",
    "    label_type=\"V\",\n",
    "    transform=transform,\n",
    ")"
   ],
   "metadata": {
    "collapsed": false
   }
  },
  {
   "cell_type": "code",
   "execution_count": null,
   "outputs": [],
   "source": [
    "# -------------- Dataloader --------------\n",
    "eegloader = EEGDataloader(mahnob_dataset, batch_size=32).loso()\n"
   ],
   "metadata": {
    "collapsed": false
   }
  }
 ],
 "metadata": {
  "kernelspec": {
   "display_name": "Python 3",
   "language": "python",
   "name": "python3"
  },
  "language_info": {
   "codemirror_mode": {
    "name": "ipython",
    "version": 2
   },
   "file_extension": ".py",
   "mimetype": "text/x-python",
   "name": "python",
   "nbconvert_exporter": "python",
   "pygments_lexer": "ipython2",
   "version": "2.7.6"
  }
 },
 "nbformat": 4,
 "nbformat_minor": 0
}
