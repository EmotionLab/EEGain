{
 "nbformat": 4,
 "nbformat_minor": 0,
 "metadata": {
  "colab": {
   "provenance": []
  },
  "kernelspec": {
   "name": "python3",
   "display_name": "Python 3"
  },
  "language_info": {
   "name": "python"
  }
 },
 "cells": [
  {
   "cell_type": "markdown",
   "source": [
    "# DeepConvNet"
   ],
   "metadata": {
    "id": "vtOcI7TbuwlT"
   }
  },
  {
   "cell_type": "markdown",
   "source": [
    "## TODO\n",
    "\n",
    "\n",
    "1.   Add fit\n",
    "2.   Add predict\n",
    "3.   Add citation\n",
    "4.   Improve text\n",
    "\n"
   ],
   "metadata": {
    "id": "rITw-hqdu0K2"
   }
  },
  {
   "cell_type": "markdown",
   "source": [
    "## Overview"
   ],
   "metadata": {
    "id": "cFvjGDQ8u2zq"
   }
  },
  {
   "cell_type": "markdown",
   "source": [
    "DeepConvNet from [Deep learning with convolutional neural networks for EEG decoding and visualization](https://onlinelibrary.wiley.com/doi/full/10.1002/hbm.23730)"
   ],
   "metadata": {
    "id": "yu_nDrjD2t3P"
   }
  },
  {
   "cell_type": "markdown",
   "source": [
    "DeepConvNet is a cutting-edge deep learning architecture specifically designed for the analysis of electroencephalography (EEG) data. Introduced in 2018, DeepConvNet was developed to cater to the unique requirements of brain-computer interface (BCI) applications, where extracting meaningful information from EEG signals is crucial.\n",
    "\n",
    "Numerous studies have showcased the remarkable efficacy of DeepConvNet across diverse BCI tasks, including motor imagery classification, workload estimation, and emotion recognition. Notably, DeepConvNet has demonstrated exceptional adaptability, successfully learning from small datasets—an invaluable trait in scenarios where limited EEG data is available for training.\n",
    "\n",
    "With its compact design and unwavering performance, DeepConvNet emerges as a highly valuable tool for harnessing the power of artificial intelligence in EEG-based applications. By combining specialized architecture for EEG analysis with robust capabilities, DeepConvNet empowers researchers and practitioners to unlock new insights and drive advancements in the field of EEG analysis and brain-computer interfaces."
   ],
   "metadata": {
    "id": "8wws4H954R-a"
   }
  },
  {
   "cell_type": "markdown",
   "source": [
    "> eegain.models.deepconvnet(*n_chan: int = 32, n_time: int = 128, n_class: int = 2, dropout_rate: float = 0.5*) → DeepConvNet [[SOURCE]](https://github.com/RRaphaell/EEGain/blob/main/eegain/models/deepconvnet.py)"
   ],
   "metadata": {
    "id": "Zk6qso196j5Y"
   }
  },
  {
   "cell_type": "markdown",
   "source": [
    "## Parameters"
   ],
   "metadata": {
    "id": "STU8-Rom64hi"
   }
  },
  {
   "cell_type": "markdown",
   "source": [
    "<figure style=\"width: 100%;\">\n",
    "  \n",
    "| Argument      | Type  | Description                         | Default |\n",
    "|---------------|-------|-------------------------------------|---------|\n",
    "| n_chan        | int   | Number of EEG channels              |   N/A   |\n",
    "| n_time        | int   | Time points in EEG data             |   N/A   |\n",
    "| n_class       | int   | Number of classes to classify       |   N/A   |\n",
    "| dropout_rate  | float | Dropout fraction                    |   N/A   |\n",
    "\n",
    "</figure>\n"
   ],
   "metadata": {
    "id": "elGTkzJd7Wsz"
   }
  },
  {
   "cell_type": "markdown",
   "source": [
    "## Example from Framework"
   ],
   "metadata": {
    "id": "J8zOa0bh7e10"
   }
  },
  {
   "cell_type": "code",
   "source": [
    "%%capture\n",
    "!pip install eegain"
   ],
   "metadata": {
    "id": "u8-b_2BD7Vs0"
   },
   "execution_count": null,
   "outputs": []
  },
  {
   "cell_type": "code",
   "source": [
    "from eegain.models import DeepConvNet\n",
    "\n",
    "model = DeepConvNet(\n",
    "    n_chan=32,\n",
    "    n_time=256,\n",
    "    n_class=2,\n",
    "    dropout_rate=0.5\n",
    ")\n"
   ],
   "metadata": {
    "id": "uqgYuzKs7iFx",
    "pycharm": {
     "name": "#%%\n"
    }
   },
   "execution_count": null,
   "outputs": []
  }
 ]
}
