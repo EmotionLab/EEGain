{
  "nbformat": 4,
  "nbformat_minor": 0,
  "metadata": {
    "colab": {
      "provenance": []
    },
    "kernelspec": {
      "name": "python3",
      "display_name": "Python 3"
    },
    "language_info": {
      "name": "python"
    }
  },
  "cells": [
    {
      "cell_type": "markdown",
      "source": [
        "# ShallowConvNet"
      ],
      "metadata": {
        "id": "YLituXsSRifS"
      }
    },
    {
      "cell_type": "markdown",
      "source": [
        "## TODO\n",
        "\n",
        "\n",
        "1.   Add fit\n",
        "2.   Add predict\n",
        "3.   Add citation\n",
        "4.   Improve text\n",
        "5.   Add Article"
      ],
      "metadata": {
        "id": "cl6AHxN_Rk8_"
      }
    },
    {
      "cell_type": "markdown",
      "source": [
        "## Overview"
      ],
      "metadata": {
        "id": "LW32tRLVRkD0"
      }
    },
    {
      "cell_type": "markdown",
      "source": [
        "ShallowConvNet is a specialized deep learning architecture tailored for the analysis of electroencephalography (EEG) data. It has since proven to be a valuable tool for brain-computer interface (BCI) applications, enabling the extraction of meaningful information from EEG signals.\n",
        "\n",
        "The effectiveness of ShallowConvNet has been demonstrated across various BCI tasks, including motor imagery classification, workload estimation, and emotion recognition. Its robust performance in these tasks highlights its ability to capture essential features from EEG data and make accurate predictions.\n",
        "\n",
        "An intriguing aspect of ShallowConvNet is its capacity to learn effectively from limited EEG datasets, a common challenge in BCI research. This capability is particularly advantageous in situations where access to extensive EEG data for training is limited or impractical, offering a practical solution for real-world applications."
      ],
      "metadata": {
        "id": "bUtynhSTQkvg"
      }
    },
    {
      "cell_type": "markdown",
      "source": [
        "> eegain.models.shallowconvnet(*n_chan: int = 32, n_time: int = 128, n_class: int = 2, dropout_rate: float = 0.5*) → ShallowConvNet [[SOURCE]](https://github.com/RRaphaell/EEGain/blob/main/eegain/models/shallowconvnet.py)"
      ],
      "metadata": {
        "id": "eUswSYAYRr6d"
      }
    },
    {
      "cell_type": "markdown",
      "source": [
        "## Example from Framework"
      ],
      "metadata": {
        "id": "4O4F8TD8R5zj"
      }
    },
    {
      "cell_type": "code",
      "execution_count": null,
      "metadata": {
        "id": "URbUdwNUNrn5"
      },
      "outputs": [],
      "source": [
        "%%capture\n",
        "!pip install eegain"
      ]
    },
    {
      "cell_type": "code",
      "source": [
        "from eegain.models import ShallowConvNet\n",
        "\n",
        "model = ShallowConvNet(\n",
        "    n_chan=32,\n",
        "    n_time=128,\n",
        "    n_class=2,\n",
        "    dropout_rate=0.5\n",
        ")"
      ],
      "metadata": {
        "id": "tAihQX2mR897"
      },
      "execution_count": null,
      "outputs": []
    }
  ]
}
