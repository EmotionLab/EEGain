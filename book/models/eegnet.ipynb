{
 "nbformat": 4,
 "nbformat_minor": 0,
 "metadata": {
  "colab": {
   "provenance": []
  },
  "kernelspec": {
   "name": "python3",
   "display_name": "Python 3"
  },
  "language_info": {
   "name": "python"
  }
 },
 "cells": [
  {
   "cell_type": "markdown",
   "source": [
    "# EEGNet"
   ],
   "metadata": {
    "id": "cw5UroMIcvBy"
   }
  },
  {
   "cell_type": "markdown",
   "source": [
    "## TODO\n",
    "\n",
    "\n",
    "1.   Add fit\n",
    "2.   Add predict\n",
    "3.   Add citation\n",
    "\n"
   ],
   "metadata": {
    "collapsed": false,
    "pycharm": {
     "name": "#%% md\n"
    }
   }
  },
  {
   "cell_type": "markdown",
   "source": [
    "## Overview"
   ],
   "metadata": {
    "collapsed": false,
    "pycharm": {
     "name": "#%% md\n"
    }
   }
  },
  {
   "cell_type": "markdown",
   "source": [
    "## Overview"
   ],
   "metadata": {
    "collapsed": false,
    "pycharm": {
     "name": "#%% md\n"
    }
   }
  },
  {
   "cell_type": "markdown",
   "source": [
    "EEGNet from [EEGNet: A Compact Convolutional Neural Network for EEG-based Brain-Computer Interfaces](https://iopscience.iop.org/article/10.1088/1741-2552/aace8c/meta)"
   ],
   "metadata": {
    "collapsed": false,
    "pycharm": {
     "name": "#%% md\n"
    }
   }
  },
  {
   "cell_type": "markdown",
   "source": [
    "EEGNet from [EEGNet: A Compact Convolutional Neural Network for EEG-based Brain-Computer Interfaces](https://iopscience.iop.org/article/10.1088/1741-2552/aace8c/meta)"
   ],
   "metadata": {
    "collapsed": false,
    "pycharm": {
     "name": "#%% md\n"
    }
   }
  },
  {
   "cell_type": "markdown",
   "source": [
    "EEGNet is a deep learning architecture designed specifically for analyzing electroencephalography (EEG) data. Introduced in 2018, EEGNet is tailored for brain-computer interface (BCI) applications, which involve extracting meaningful information from EEG signals for various tasks.\n",
    "\n",
    "Several studies have demonstrated EEGNet's effectiveness in diverse BCI tasks, including motor imagery classification, workload estimation, and emotion recognition. Furthermore, EEGNet has exhibited the ability to effectively learn from small datasets, making it particularly advantageous in scenarios where limited EEG data is available for training.\n",
    "\n",
    "EEGNet’s compact design and robust performance make it a valuable tool for leveraging the power of artificial intelligence in EEG-based applications.\n"
   ],
   "metadata": {
    "collapsed": false,
    "pycharm": {
     "name": "#%% md\n"
    }
   }
  },
  {
   "cell_type": "markdown",
   "source": [
    "EEGNet is a deep learning architecture designed specifically for analyzing electroencephalography (EEG) data. Introduced in 2018, EEGNet is tailored for brain-computer interface (BCI) applications, which involve extracting meaningful information from EEG signals for various tasks.\n",
    "\n",
    "Several studies have demonstrated EEGNet's effectiveness in diverse BCI tasks, including motor imagery classification, workload estimation, and emotion recognition. Furthermore, EEGNet has exhibited the ability to effectively learn from small datasets, making it particularly advantageous in scenarios where limited EEG data is available for training.\n",
    "\n",
    "EEGNet’s compact design and robust performance make it a valuable tool for leveraging the power of artificial intelligence in EEG-based applications.\n"
   ],
   "metadata": {
    "id": "_rcsW1TURcr8"
   }
  },
  {
   "cell_type": "markdown",
   "source": [
    "> eegain.models.eegnet(*n_classes: int = 2, channels: int = 32, dropout_rate: float = 0.5, samples: int = 128, kernel_length: int = 64, kernel_length2: int = 8, f1: int = 8, f2: int = 16, d: int = 2*) → EEGNet [[SOURCE]](https://github.com/RRaphaell/EEGain/blob/main/eegain/models/eegnet.py)"
   ],
   "metadata": {
    "id": "KwG-taliZUdq"
   }
  },
  {
   "cell_type": "markdown",
   "source": [
    "## Parameters"
   ],
   "metadata": {
    "id": "IKlykt9KTIc_"
   }
  },
  {
   "cell_type": "markdown",
   "source": [
    "<figure style=\"width: 100%;\">\n",
    "  \n",
    "| Argument      | Type  | Description                         | Default |\n",
    "|---------------|-------|-------------------------------------|---------|\n",
    "| n_classes     | int   | Number of classes to classify       |   N/A   |\n",
    "| channels      | int   | number of EEG channels              |   N/A   |\n",
    "| dropout_rate  | float | Dropout fraction                    |   N/A   |\n",
    "| samples       | int   | Time points in EEG data             |   N/A   |\n",
    "| kernel_length | int   | Length of temporal convolution in first layer|   64    |\n",
    "| kernel_length2| int   | Length of temporal convolution in second layer|   16   |\n",
    "| f1            | int   | Number of temporal filters                     |   8   |\n",
    "| f2            | int   | Number of pointwise filters                     |   F1 * D   |\n",
    "| d             | int   | Number of spatial filters to learn within each temporal convolution                   |   2   |\n",
    "\n",
    "</figure>\n"
   ],
   "metadata": {
    "id": "3CMhgIa8sa6g"
   }
  },
  {
   "cell_type": "markdown",
   "source": [
    "## Example from Framework"
   ],
   "metadata": {
    "id": "3z5cuVA9Rnkl"
   }
  },
  {
   "cell_type": "code",
   "source": [
    "%%capture\n",
    "!pip install eegain"
   ],
   "metadata": {
    "id": "3SbRsrhWeden"
   },
   "execution_count": null,
   "outputs": []
  },
  {
   "cell_type": "code",
   "execution_count": null,
   "metadata": {
    "id": "0Rg0NZeiRUN5",
    "pycharm": {
     "name": "#%%\n"
    }
   },
   "outputs": [],
   "source": [
    "from eegain.models import EEGNet\n",
    "\n",
    "model = EEGNet(\n",
    "    n_classes=2,\n",
    "    channels=32,\n",
    "    dropout_rate=0.5,\n",
    "    samples=128\n",
    ")\n"
   ]
  }
 ]
}
